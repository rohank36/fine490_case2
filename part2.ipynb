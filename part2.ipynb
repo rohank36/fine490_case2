{
 "cells": [
  {
   "cell_type": "code",
   "execution_count": 132,
   "id": "c6a1f0f2",
   "metadata": {},
   "outputs": [
    {
     "name": "stdout",
     "output_type": "stream",
     "text": [
      "Class A shares should rise to: $66.45\n"
     ]
    }
   ],
   "source": [
    "p0 = 62.16 # per share\n",
    "percent_increase = (6.9)/100\n",
    "#percent_increase = 25.45/100\n",
    "classA_shares = 111933031\n",
    "classB_shares = 726829\n",
    "p1 = p0 * (1+percent_increase)\n",
    "print(f\"Class A shares should rise to: ${p1:,.2f}\")"
   ]
  },
  {
   "cell_type": "code",
   "execution_count": 133,
   "id": "bd88039e",
   "metadata": {},
   "outputs": [
    {
     "name": "stdout",
     "output_type": "stream",
     "text": [
      "480,085,247.2802391\n"
     ]
    }
   ],
   "source": [
    "print(f\"{(classA_shares * p1)-(classA_shares * p0) :,}\")"
   ]
  },
  {
   "cell_type": "code",
   "execution_count": 134,
   "id": "862389f8",
   "metadata": {},
   "outputs": [
    {
     "data": {
      "text/plain": [
       "77.0"
      ]
     },
     "execution_count": 134,
     "metadata": {},
     "output_type": "execute_result"
    }
   ],
   "source": [
    "1540000000/20000000"
   ]
  },
  {
   "cell_type": "code",
   "execution_count": 128,
   "id": "591f755f",
   "metadata": {},
   "outputs": [
    {
     "name": "stdout",
     "output_type": "stream",
     "text": [
      "Add 8,721,948 new Class A shares converted from Class B\n"
     ]
    }
   ],
   "source": [
    "S = 12 # issue S class A shares per class B share\n",
    "classB_shares_converted_to_class_A = S * classB_shares\n",
    "print(f\"Add {classB_shares_converted_to_class_A:,} new Class A shares converted from Class B\")"
   ]
  },
  {
   "cell_type": "code",
   "execution_count": 125,
   "id": "7a45a1fc",
   "metadata": {},
   "outputs": [
    {
     "name": "stdout",
     "output_type": "stream",
     "text": [
      "120,654,979 shares outstanding\n"
     ]
    }
   ],
   "source": [
    "total_shares =  classA_shares + classB_shares_converted_to_class_A\n",
    "print(f\"{total_shares:,} shares outstanding\")"
   ]
  },
  {
   "cell_type": "code",
   "execution_count": 126,
   "id": "69a85e36",
   "metadata": {},
   "outputs": [
    {
     "name": "stdout",
     "output_type": "stream",
     "text": [
      "% owned by class A: 92.77% | % owned by class B: 7.23%\n"
     ]
    }
   ],
   "source": [
    "percentage_equity_owned_by_class_A = classA_shares/total_shares\n",
    "percentage_equity_owned_by_class_B = classB_shares_converted_to_class_A/total_shares\n",
    "print(f\"% owned by class A: {percentage_equity_owned_by_class_A*100:.2f}% | % owned by class B: {percentage_equity_owned_by_class_B*100:.2f}%\")"
   ]
  },
  {
   "cell_type": "code",
   "execution_count": 121,
   "id": "4239d898",
   "metadata": {},
   "outputs": [
    {
     "name": "stdout",
     "output_type": "stream",
     "text": [
      "Initial Value from Class A shares: 6,957,757,206.96\n",
      "New Value from Class A shares: 8,114,001,704.36\n",
      "Value Created: 1,156,244,497.40\n"
     ]
    }
   ],
   "source": [
    "initial_total_equity_value = classA_shares * p0\n",
    "new_total_equity_value = total_shares * p1\n",
    "value_created = new_total_equity_value - initial_total_equity_value\n",
    "print(f\"Initial Value from Class A shares: {initial_total_equity_value:,.2f}\")\n",
    "print(f\"New Value from Class A shares: {new_total_equity_value:,.2f}\")\n",
    "print(f\"Value Created: {value_created:,.2f}\")"
   ]
  },
  {
   "cell_type": "code",
   "execution_count": 122,
   "id": "254e9d80",
   "metadata": {},
   "outputs": [
    {
     "name": "stdout",
     "output_type": "stream",
     "text": [
      "Class A Stake: 7,437,842,454.24 | Class B Stake: 676,159,250.12\n"
     ]
    }
   ],
   "source": [
    "classA_stake = percentage_equity_owned_by_class_A * new_total_equity_value\n",
    "classB_stake = percentage_equity_owned_by_class_B * new_total_equity_value\n",
    "print(f\"Class A Stake: {classA_stake:,.2f} | Class B Stake: {classB_stake:,.2f}\")\n"
   ]
  },
  {
   "cell_type": "code",
   "execution_count": 123,
   "id": "f6a92c5d",
   "metadata": {},
   "outputs": [
    {
     "name": "stdout",
     "output_type": "stream",
     "text": [
      "New Price Per Share after unification: 66.45\n"
     ]
    }
   ],
   "source": [
    "new_price_per_share = new_total_equity_value / (total_shares)\n",
    "print(f\"New Price Per Share after unification: {new_price_per_share:,.2f}\")"
   ]
  }
 ],
 "metadata": {
  "kernelspec": {
   "display_name": "myenv (3.12.6)",
   "language": "python",
   "name": "python3"
  },
  "language_info": {
   "codemirror_mode": {
    "name": "ipython",
    "version": 3
   },
   "file_extension": ".py",
   "mimetype": "text/x-python",
   "name": "python",
   "nbconvert_exporter": "python",
   "pygments_lexer": "ipython3",
   "version": "3.12.6"
  }
 },
 "nbformat": 4,
 "nbformat_minor": 5
}
