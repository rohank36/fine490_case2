{
 "cells": [
  {
   "cell_type": "code",
   "execution_count": 13,
   "id": "c6a1f0f2",
   "metadata": {},
   "outputs": [],
   "source": [
    "p0 = 62.16 # per share\n",
    "percent_increase = (6.9)/100\n",
    "classA_shares = 111933031\n",
    "classB_shares = 726829\n",
    "p1 = p0 * (1+percent_increase)"
   ]
  },
  {
   "cell_type": "code",
   "execution_count": 14,
   "id": "650c7940",
   "metadata": {},
   "outputs": [
    {
     "name": "stdout",
     "output_type": "stream",
     "text": [
      "Initial: 6957757206.96 | New: 7437842454.240239 | Value Created: 480085247.2802391\n"
     ]
    }
   ],
   "source": [
    "classA_equity_value_inital = classA_shares * p0\n",
    "classA_equity_value_new = classA_shares * p1\n",
    "equity_value_created = classA_equity_value_new - classA_equity_value_inital\n",
    "print(f\"Initial: {classA_equity_value_inital} | New: {classA_equity_value_new} | Value Created: {equity_value_created}\")"
   ]
  },
  {
   "cell_type": "code",
   "execution_count": 21,
   "id": "591f755f",
   "metadata": {},
   "outputs": [
    {
     "name": "stdout",
     "output_type": "stream",
     "text": [
      "Add 36341450 new Class A shares converted from Class B\n"
     ]
    }
   ],
   "source": [
    "S = 50 # issue S class A shares per class B share\n",
    "classB_shares_converted_to_class_A = S * classB_shares\n",
    "print(f\"Add {classB_shares_converted_to_class_A} new Class A shares converted from Class B\")"
   ]
  },
  {
   "cell_type": "code",
   "execution_count": 22,
   "id": "7a45a1fc",
   "metadata": {},
   "outputs": [
    {
     "name": "stdout",
     "output_type": "stream",
     "text": [
      "148274481 shares outstanding\n"
     ]
    }
   ],
   "source": [
    "#classA_shares += class_A_shares_to_add\n",
    "total_shares =  classA_shares + classB_shares_converted_to_class_A\n",
    "print(f\"{total_shares} shares outstanding\")"
   ]
  },
  {
   "cell_type": "code",
   "execution_count": 23,
   "id": "69a85e36",
   "metadata": {},
   "outputs": [
    {
     "name": "stdout",
     "output_type": "stream",
     "text": [
      "% owned by class A: 0.7549042171322792 | % owned by class B: 0.24509578286772085\n"
     ]
    }
   ],
   "source": [
    "percentage_equity_owned_by_class_A = classA_shares/total_shares\n",
    "percentage_equity_owned_by_class_B = classB_shares_converted_to_class_A/total_shares\n",
    "print(f\"% owned by class A: {percentage_equity_owned_by_class_A} | % owned by class B: {percentage_equity_owned_by_class_B}\")"
   ]
  },
  {
   "cell_type": "code",
   "execution_count": 24,
   "id": "4239d898",
   "metadata": {},
   "outputs": [
    {
     "name": "stdout",
     "output_type": "stream",
     "text": [
      "9852696918.94824\n"
     ]
    }
   ],
   "source": [
    "total_equity_value = total_shares * p1\n",
    "print(total_equity_value)"
   ]
  },
  {
   "cell_type": "code",
   "execution_count": null,
   "id": "a91e4046",
   "metadata": {},
   "outputs": [],
   "source": []
  }
 ],
 "metadata": {
  "kernelspec": {
   "display_name": "myenv (3.12.6)",
   "language": "python",
   "name": "python3"
  },
  "language_info": {
   "codemirror_mode": {
    "name": "ipython",
    "version": 3
   },
   "file_extension": ".py",
   "mimetype": "text/x-python",
   "name": "python",
   "nbconvert_exporter": "python",
   "pygments_lexer": "ipython3",
   "version": "3.12.6"
  }
 },
 "nbformat": 4,
 "nbformat_minor": 5
}
