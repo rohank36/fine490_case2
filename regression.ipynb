{
 "cells": [
  {
   "cell_type": "code",
   "execution_count": 19,
   "id": "e7a7b48a",
   "metadata": {},
   "outputs": [],
   "source": [
    "import pandas as pd\n",
    "import matplotlib.pyplot as plt"
   ]
  },
  {
   "cell_type": "code",
   "execution_count": 20,
   "id": "4a8a13a4",
   "metadata": {},
   "outputs": [],
   "source": [
    "raw_data = pd.read_csv(\"data.csv\")\n",
    "raw_data = raw_data.drop(8).reset_index(drop=True) # sceptre outlier\n",
    "raw_data[\"Coattail\"] = raw_data[\"Coattail\"].map({\"Yes\": 1, \"No\": 0})\n",
    "data = raw_data[[\"Company\",\"Coattail\",\"Market Cap (C$ MM)\",\"Sup Vote/Econ\",\"Premium %\"]]\n",
    "MAGNA = data[data[\"Company\"] == \"Magna\"].copy()\n",
    "data = data.dropna().reset_index(drop=True)"
   ]
  },
  {
   "cell_type": "code",
   "execution_count": 21,
   "id": "0627716f",
   "metadata": {},
   "outputs": [],
   "source": [
    "X = data.iloc[:,1:-1]\n",
    "Y = data.iloc[:,-1]"
   ]
  },
  {
   "cell_type": "code",
   "execution_count": 22,
   "id": "e086d1cd",
   "metadata": {},
   "outputs": [
    {
     "data": {
      "image/png": "[encoded data removed]",
      "text/plain": [
       "<Figure size 600x400 with 1 Axes>"
      ]
     },
     "metadata": {},
     "output_type": "display_data"
    }
   ],
   "source": [
    "Y.plot(style=\"o\", figsize=(6,4), title=\"Premium %\")\n",
    "plt.show()"
   ]
  },
  {
   "cell_type": "code",
   "execution_count": 23,
   "id": "b1c28f13",
   "metadata": {},
   "outputs": [],
   "source": [
    "#from sklearn.linear_model import LinearRegression\n",
    "import statsmodels.api as sm\n",
    "from sklearn.preprocessing import RobustScaler"
   ]
  },
  {
   "cell_type": "code",
   "execution_count": 24,
   "id": "dc4a892e",
   "metadata": {},
   "outputs": [],
   "source": [
    "scaler = RobustScaler()\n",
    "X_scaled = scaler.fit_transform(X)\n",
    "X_scaled = pd.DataFrame(X_scaled, columns=X.columns)"
   ]
  },
  {
   "cell_type": "code",
   "execution_count": null,
   "id": "55ec571b",
   "metadata": {},
   "outputs": [
    {
     "name": "stdout",
     "output_type": "stream",
     "text": [
      "                            OLS Regression Results                            \n",
      "==============================================================================\n",
      "Dep. Variable:              Premium %   R-squared:                       0.947\n",
      "Model:                            OLS   Adj. R-squared:                  0.930\n",
      "Method:                 Least Squares   F-statistic:                     54.05\n",
      "Date:                Sun, 05 Oct 2025   Prob (F-statistic):           4.44e-06\n",
      "Time:                        19:37:18   Log-Likelihood:                -57.844\n",
      "No. Observations:                  13   AIC:                             123.7\n",
      "Df Residuals:                       9   BIC:                             125.9\n",
      "Df Model:                           3                                         \n",
      "Covariance Type:            nonrobust                                         \n",
      "======================================================================================\n",
      "                         coef    std err          t      P>|t|      [0.025      0.975]\n",
      "--------------------------------------------------------------------------------------\n",
      "const                 -2.8184      8.455     -0.333      0.747     -21.945      16.308\n",
      "Coattail             -30.3402     22.277     -1.362      0.206     -80.734      20.054\n",
      "Market Cap (C$ MM)    -2.2993      3.620     -0.635      0.541     -10.488       5.889\n",
      "Sup Vote/Econ         15.7519      1.240     12.698      0.000      12.946      18.558\n",
      "==============================================================================\n",
      "Omnibus:                       20.226   Durbin-Watson:                   1.903\n",
      "Prob(Omnibus):                  0.000   Jarque-Bera (JB):               17.422\n",
      "Skew:                          -2.065   Prob(JB):                     0.000165\n",
      "Kurtosis:                       6.888   Cond. No.                         19.7\n",
      "==============================================================================\n",
      "\n",
      "Notes:\n",
      "[1] Standard Errors assume that the covariance matrix of the errors is correctly specified.\n"
     ]
    }
   ],
   "source": [
    "# Add a constant term for the intercept\n",
    "X_with_const = sm.add_constant(X_scaled)\n",
    "\n",
    "ols_model = sm.OLS(Y, X_with_const).fit()\n",
    "\n",
    "print(ols_model.summary())\n"
   ]
  },
  {
   "cell_type": "code",
   "execution_count": 33,
   "id": "57f3612a",
   "metadata": {},
   "outputs": [
    {
     "data": {
      "text/plain": [
       "0    766.882993\n",
       "dtype: float64"
      ]
     },
     "execution_count": 33,
     "metadata": {},
     "output_type": "execute_result"
    }
   ],
   "source": [
    "MAGNA_X = MAGNA.loc[MAGNA[\"Company\"]==\"Magna\", X.columns]\n",
    "MAGNA_SCALED = pd.DataFrame(scaler.transform(MAGNA_X),columns=X.columns)\n",
    "X_new_with_const = sm.add_constant(MAGNA_SCALED, has_constant='add')\n",
    "y_new_pred = ols_model.predict(X_new_with_const)\n",
    "y_new_pred"
   ]
  }
 ],
 "metadata": {
  "kernelspec": {
   "display_name": "myenv (3.12.6)",
   "language": "python",
   "name": "python3"
  },
  "language_info": {
   "codemirror_mode": {
    "name": "ipython",
    "version": 3
   },
   "file_extension": ".py",
   "mimetype": "text/x-python",
   "name": "python",
   "nbconvert_exporter": "python",
   "pygments_lexer": "ipython3",
   "version": "3.12.6"
  }
 },
 "nbformat": 4,
 "nbformat_minor": 5
}
